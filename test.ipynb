{
 "cells": [
  {
   "cell_type": "code",
   "execution_count": 3,
   "metadata": {},
   "outputs": [],
   "source": [
    "from transformers import pipeline\n",
    "def get_summary(transcript):\n",
    "    summarization = pipeline(\"summarization\", model=\"./models\")\n",
    "    # summarization.save_pretrained(\"./\")\n",
    "    # original_text = result\n",
    "    summary_text = summarization(transcript)[0]['summary_text']\n",
    "    return summary_text"
   ]
  },
  {
   "cell_type": "code",
   "execution_count": 4,
   "metadata": {},
   "outputs": [
    {
     "data": {
      "text/plain": [
       "\" YouTube has recently updated their upload process . Now during the upload process, you can add subtitles while you're uploading your video . We'll be adding our subtitles to the YouTube video manually, but after I've shown you this, I'm showing you how to automatically generate a subtitle SRT file so you can upload your subtitles with your YouTube video at the same time .\""
      ]
     },
     "execution_count": 4,
     "metadata": {},
     "output_type": "execute_result"
    }
   ],
   "source": [
    "g = \"Hey, everyone, Alec here with VEED. And in this video, I'm going to be showing you how to add subtitles to a YouTube video. So YouTube has recently updated their upload process. And now during the upload process, you can add subtitles while you're uploading your video. Now, in this video, I'm going to walk you through that step by step. And we'll be adding our subtitles to the YouTube video manually, but after I've shown you this, I'm gonna be showing you how to automatically generate a subtitle SRT file so you can upload your subtitles with your YouTube video at the same time, in just a few clicks. And with that being said, let's get started. So once we're on YouTube, to add subtitles to our video while we upload it, we're just going to upload a video as we would normally. So here I'm just gonna click on the create button right here. And then we're just gonna select Upload video. Now we're taken to the YouTube video upload page and this is where I'm going to select the YouTube video I want to upload to YouTube. So I click on Select Files and then here I'm just going to select my YouTube videos. As you see, I've got it here ready. I click Open and now it's being uploaded to YouTube. So as you can see our video is now being uploaded and here we can fill out all the information for our video as if we would normally. So when you upload a video normally to YouTube, you go ahead, you fill out the title, you fill out the description. You might add a thumbnail, you might add some tags at the bottom. Then once we click Next to go to the next step for the video elements, here you'll notice that at the top, we have this new section, which is Add subtitles right next to it. As you can see, New. Now, there's always been the possibility to add subtitles to a YouTube video, but here YouTube implemented this section directly within the upload process because they know how important subtitles are and how important they're becoming because video content is dominating online. And it even says just below, Reach a broader audience by adding subtitles to your video. So even YouTube knows that if you add subtitles to video, you're going \"\n",
    "get_summary(g)"
   ]
  }
 ],
 "metadata": {
  "interpreter": {
   "hash": "8d9653d5a14329d3f988cd1441986478ac776895e99e8a2ac1e19f44399000db"
  },
  "kernelspec": {
   "display_name": "Python 3.8.5 ('mini2b')",
   "language": "python",
   "name": "python3"
  },
  "language_info": {
   "codemirror_mode": {
    "name": "ipython",
    "version": 3
   },
   "file_extension": ".py",
   "mimetype": "text/x-python",
   "name": "python",
   "nbconvert_exporter": "python",
   "pygments_lexer": "ipython3",
   "version": "3.10.0"
  },
  "orig_nbformat": 4
 },
 "nbformat": 4,
 "nbformat_minor": 2
}
