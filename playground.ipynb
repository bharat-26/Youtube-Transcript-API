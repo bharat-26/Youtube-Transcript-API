{
 "cells": [
  {
   "cell_type": "code",
   "execution_count": 6,
   "metadata": {},
   "outputs": [],
   "source": [
    "import os\n",
    "import speech_recognition as sr\n",
    "import ffmpeg\n",
    "from pytube import YouTube"
   ]
  },
  {
   "cell_type": "code",
   "execution_count": 2,
   "metadata": {},
   "outputs": [
    {
     "name": "stdout",
     "output_type": "stream",
     "text": [
      "c:\\Users\\Shriya\\Documents\\TE Sem 6\\Mini Project 2B\\How to Add Subtitles to a YouTube Video - NEW YOUTUBE UPDATE & Automatic Subtitles (2022).mp4\n"
     ]
    }
   ],
   "source": [
    "video = YouTube(\"https://www.youtube.com/watch?v=Ad_TEk94B9Q\")\n",
    "yt = video.streams.get_audiosss_only()\n",
    "\n",
    "yt.download()\n",
    "\n",
    "current_dir = os.getcwd()\n",
    "\n"
   ]
  },
  {
   "cell_type": "code",
   "execution_count": 18,
   "metadata": {},
   "outputs": [
    {
     "name": "stdout",
     "output_type": "stream",
     "text": [
      "c:\\Users\\Shriya\\Documents\\TE Sem 6\\Mini Project 2B\\How to Add Subtitles to a YouTube Video - NEW YOUTUBE UPDATE & Automatic Subtitles (2022).mp4\n"
     ]
    }
   ],
   "source": [
    "for file in os.listdir(current_dir):\n",
    "    if file.endswith(\".mp4\"):\n",
    "        mp4_file = os.path.join(current_dir, file)\n",
    "        print(mp4_file)\n",
    "        os.rename(mp4_file, \"input.mp4\")"
   ]
  },
  {
   "cell_type": "code",
   "execution_count": 2,
   "metadata": {},
   "outputs": [
    {
     "data": {
      "text/plain": [
       "(None, None)"
      ]
     },
     "execution_count": 2,
     "metadata": {},
     "output_type": "execute_result"
    }
   ],
   "source": [
    "video = ffmpeg.input(\"input.mp4\")\n",
    "\n",
    "audio = video.audio\n",
    "\n",
    "stream = ffmpeg.output(audio, \"input.mp3\")\n",
    "\n",
    "ffmpeg.run(stream)"
   ]
  },
  {
   "cell_type": "code",
   "execution_count": 23,
   "metadata": {},
   "outputs": [
    {
     "data": {
      "text/plain": [
       "1"
      ]
     },
     "execution_count": 23,
     "metadata": {},
     "output_type": "execute_result"
    }
   ],
   "source": [
    "name = video.title\n",
    "command2mp3 = \"ffmpeg -i input.mp4 input.mp3\"\n",
    "command2wav = \"ffmpeg -i '\"+ name+\".mp3' '\"+name+\".wav'\"\n",
    "os.system(command2mp3)"
   ]
  },
  {
   "cell_type": "code",
   "execution_count": 22,
   "metadata": {},
   "outputs": [
    {
     "data": {
      "text/plain": [
       "1"
      ]
     },
     "execution_count": 22,
     "metadata": {},
     "output_type": "execute_result"
    }
   ],
   "source": [
    "os.system(command2wav)"
   ]
  },
  {
   "cell_type": "code",
   "execution_count": 7,
   "metadata": {},
   "outputs": [
    {
     "name": "stdout",
     "output_type": "stream",
     "text": [
      "read and display am requesting you have to add subtitles to a YouTube video YouTube is updated the process and outgoing upload process Season 8 subtitles value after your period is due to the step-by-step movie in Youtube video manually for wishing you have a subtitle SRT file upload video YouTube reach at the same time in just a few clicks and said that get started on YouTube and 22 of the year we apply it is applied to the year as we would normally on click on it and now with icons in YouTube video upload page in this is grounded select YouTube YouTube YouTube\n"
     ]
    }
   ],
   "source": [
    "r = sr.Recognizer()\n",
    "with sr.AudioFile(\"input.wav\") as source:\n",
    "    r.adjust_for_ambient_noise(source)\n",
    "    audio = r.record(source, duration=120) \n",
    "print(r.recognize_google(audio))"
   ]
  },
  {
   "cell_type": "code",
   "execution_count": 1,
   "metadata": {},
   "outputs": [],
   "source": [
    "from youtube_transcript_api import YouTubeTranscriptApi, NoTranscriptFound, VideoUnavailable, TooManyRequests, \\\n",
    "    TranscriptsDisabled, NoTranscriptAvailable\n",
    "from youtube_transcript_api.formatters import TextFormatter\n",
    "#from transformers import T5ForConditionalGeneration, T5Tokenizer"
   ]
  },
  {
   "cell_type": "code",
   "execution_count": 2,
   "metadata": {},
   "outputs": [],
   "source": [
    "def get_transcript(video_id):\n",
    "    # Using Formatter to store and format received subtitles properly.\n",
    "    formatter = TextFormatter()\n",
    "    transcript = YouTubeTranscriptApi.get_transcript(video_id)\n",
    "    formatted_text = formatter.format_transcript(transcript).replace(\"\\n\", \" \")\n",
    "    return formatted_text"
   ]
  },
  {
   "cell_type": "code",
   "execution_count": 3,
   "metadata": {},
   "outputs": [],
   "source": [
    "from transformers import pipeline, BartTokenizer, BartForConditionalGeneration, BartConfig\n",
    "\n",
    "def get_summary(transcript):\n",
    "    tokenizer = BartTokenizer.from_pretrained(\"./models\", max_length=1024, truncation=True)\n",
    "    model = BartForConditionalGeneration.from_pretrained(\"./models\")\n",
    "    summarization = pipeline(\"summarization\", model=model, tokenizer=tokenizer)\n",
    "    # summarization = pipeline(\"summarization\", model=\"./models\") //Works\n",
    "    # summarization.save_pretrained(\"./\")\n",
    "    # original_text = result\n",
    "    summary_text = summarization(transcript, min_length=300, max_length=1000)[0]['summary_text']\n",
    "    return summary_text"
   ]
  },
  {
   "cell_type": "code",
   "execution_count": 8,
   "metadata": {},
   "outputs": [
    {
     "name": "stdout",
     "output_type": "stream",
     "text": [
      "- Hey, everyone, Alec here with VEED. And in this video, I'm going to be showing you how to add subtitles to a YouTube video. So YouTube has recently updated their upload process. And now during the upload process, you can add subtitles while you're uploading your video. Now, in this video, I'm going to walk you through that step by step. And we'll be adding our subtitles to the YouTube video manually, but after I've shown you this, I'm gonna be showing you how to automatically generate a subtitle SRT file so you can upload your subtitles with your YouTube video at the same time, in just a few clicks. And with that being said, let's get started. So once we're on YouTube, to add subtitles to our video while we upload it, we're just going to upload a video as we would normally. So here I'm just gonna click on the create button right here. And then we're just gonna select Upload video. Now we're taken to the YouTube video upload page and this is where I'm going to select the YouTube video I want to upload to YouTube. So I click on Select Files and then here I'm just going to select my YouTube videos. As you see, I've got it here ready. I click Open and now it's being uploaded to YouTube. So as you can see our video is now being uploaded and here we can fill out all the information for our video as if we would normally. So when you upload a video normally to YouTube, you go ahead, you fill out the title, you fill out the description. You might add a thumbnail, you might add some tags at the bottom. Then once we click Next to go to the next step for the video elements, here you'll notice that at the top, we have this new section, which is Add subtitles right next to it. As you can see, New. Now, there's always been the possibility to add subtitles to a YouTube video, but here YouTube implemented this section directly within the upload process because they know how important subtitles are and how important they're becoming because video content is dominating online. And it even says just below, Reach a broader audience by adding subtitles to your video. So even YouTube knows that if you add subtitles to video, you're going to get more reach and more views. Now to add the subtitles, all we're going to do is click on Add right next to add subtitles. And now you might recognize this. This is the YouTube subtitle editor. Now here, as you can see, we've got three options. We can upload a file that we've already created. So this could be an SRT file. However, we don't have one, but stick around I'm going to show you how to generate one of these automatically for your video. Then we can Auto-sync. And this is basically, if you have a full transcript of your video script, you can basically just copy and paste it and then YouTube will auto sync it up to match the words when you say them. And then obviously we've got Type manually. And this is where you can add subtitles in manually by clicking in the time and then typing out what I say. So for an example, if I just want to add a subtitle here, I click on Type manually. And then at the beginning, let's listen to what I say. \"So I've got this video.\" So my very first subtitle would be, \"So I've got this video.\" So I've got this video. Perfect. Now, as you can see for the timestamps for this subtitle, we go from zero seconds to 1.29 seconds. So if I play it back and we pay attention here, we can actually see the subtitle in the box. \"So I've got this video and I want to add subtitles to it.\" So as you can see, our subtitle is dragging a little bit, because it disappears after we've finished saying it. So here we can either go and adjust timestamp right here, or we can go and just click and drag it directly within the timeline. And then I can click on Add caption to add the next one. So let's see what I say next. \"And I want to add subtitles to it.\" Okay. Here I say, \"And I want to add subtitles to it.\" So now I've got my first two subtitles. And that's how you add subtitles to your YouTube video. You can understand that it can be very time consuming. Once you've finished adding all of your subtitles, all you want to do is make sure you click Done in the top right and then YouTube will save your subtitles. However, as you notice this takes a lot of time, so here's how to automatically generate a subtitle file for your video. So we're going to head over to a website called veed.io. You can either head over to Google and google VEED, which is V-E-E-D. If not, as usual link is gonna be in the description down below. Once you're on VEED, if you don't already have an account, you can create an account for free. And if you do, we're just gonna click on the Create New Project button. Here we're taken to the upload screen and we're just gonna click on Upload a File. Select our YouTube video, click Open. And as you can see, our YouTube video is now imported into VEED's Video Editor. So now if we take a look and press play. \"So I've got this video.\" We have the exact same video. And basically to automatically generate subtitles for my YouTube video, all I have to do is click on the Subtitle tab in the left toolbar. And here again, we've got three options and this time one of the options is Auto-Transcribe. And as you can see here, it says automatically add subtitles to your video. So if I click on this, I then select the language that I want to automatically transcribe and turn into subtitles. Here as you can see, I've got English. And I'm just gonna stay with English. Then I click on Start. And as you can see, this process may take a few seconds to a few minutes, depending on the length of your video to automatically transcribe your videos audio into text and turn that text into subtitles. So as you can see VEED has just finished generating the subtitles for our video. And now the first thing you notice is that our sentence. \"So I've got this video and I want to add subtitles to it.\" This is the exact video that we typed out manually within YouTube's studio. So now if I press play and we take a look. \"So I've got this video and I want to add subtitles to it. Hey, everyone, my name is Alec. And in this video, I'm gonna be showing you how to add subtitles to any video online. And to get started.\" So, as you can see, we've automatically generated the subtitles for our video. Now, if you want to change and adjust a few things, for example, in this automatically generated transcript, as you can see here, it says, Alex, instead of Alec, so I'm just gonna quickly correct that, but this is a very common mistake, even on the iPhone, my name is always auto corrected to Alex, but I always recommend just quickly going through and checking your subtitles. But just from the first sentence, we can see that it's already pretty accurate. And then to download it as an SRT file so we can upload it to YouTube, all we're going to do is click on the Options tab right here. And then here we have the Download Subtitles section. And we have multiple formats which we can download our subtitles as. And we're just going to select SRT Format which is the subtitle format, click on Download. And as you can see here, we now have our SRT file. So I'm going to head over back to YouTube and this time I'm just going to delete the subtitles that I manually typed in. And if we click on Add again, here we're going to click on Upload a file. I'm going to choose With timing because our subtitle file has timing. I click Continue. And then I'm just going to select the SRT file that we've just automatically generated using VEED. Click Open and now as you can see, all of the subtitles with the corrections that I made have been imported into YouTube. Now I can just click Done. And that is how to upload subtitles to a YouTube video after YouTube's new upload process update. If you have any questions about adding subtitles to a YouTube video, I would love to hear them in the comment section down below. And if you enjoyed this video and you found it helpful as always please hit the like button, the subscribe button and the notification bell. Thanks for watching.\n"
     ]
    }
   ],
   "source": [
    "f = get_transcript(\"Ad_TEk94B9Q\")\n",
    "print(f)"
   ]
  },
  {
   "cell_type": "code",
   "execution_count": 5,
   "metadata": {},
   "outputs": [
    {
     "name": "stderr",
     "output_type": "stream",
     "text": [
      "Your max_length is set to 1000, but you input_length is only 950. You might consider decreasing max_length manually, e.g. summarizer('...', max_length=475)\n"
     ]
    },
    {
     "data": {
      "text/plain": [
       "\" YouTube should usually automatically try and caption your videos, but it never does a perfect job . To upload captions you will need to go to videos. This is the dashboard, or homepage, of the new Creator Studio . Once you select your captions document, it should automatically add it to the video where you can press save . If you don't have a captions file and you want to download the one automatically created from YouTube. Once downloaded, you should be able to open the file with any type of notepad program such as Notepad++ . And then you can make changes to it, perfect the grammar, change the spelling, make sure everything looks right, and then re-upload it to YouTube as a perfectly captioned video . With captions, you can use them for Facebook and Twitter videos, where the audio is usually turned off by default when it also plays. And so, having captions on there helps grab the viewer . For more information, do look at the support page. In the meantime, if you want a bit of fun, rewind this video back to the beginning, re-watch the video description, but use YouTube's auto-translated ones, because I guarantee you the words coming out of my mouth will be the same are the ones you are reading down here. It will then make sure to use captions. In our video description. A link is in the video descriptions. For more info, please look at our support page, do\""
      ]
     },
     "execution_count": 5,
     "metadata": {},
     "output_type": "execute_result"
    }
   ],
   "source": [
    "get_summary(f)"
   ]
  },
  {
   "cell_type": "code",
   "execution_count": 7,
   "metadata": {},
   "outputs": [
    {
     "name": "stdout",
     "output_type": "stream",
     "text": [
      "input\n"
     ]
    },
    {
     "data": {
      "text/plain": [
       "0"
      ]
     },
     "execution_count": 7,
     "metadata": {},
     "output_type": "execute_result"
    }
   ],
   "source": [
    "filename = \"input.mp4\"\n",
    "actual_filename = filename[:-4]\n",
    "print(actual_filename)\n",
    "os.system('ffmpeg -i {} -acodec pcm_s16le -ar 16000 {}.wav'.format(filename, actual_filename))"
   ]
  },
  {
   "cell_type": "code",
   "execution_count": null,
   "metadata": {},
   "outputs": [],
   "source": [
    "# For min 100\n",
    "\"\"\" YouTube should usually automatically try and caption your videos, but it never does a perfect job . \n",
    "To upload captions you will need to go to videos. This is the dashboard, or homepage, of the new Creator Studio . \n",
    "Once you select your captions document, it should automatically add it to the video where you can press save . \n",
    "If you don't have a captions file and you want to download the one automatically created from YouTube. \n",
    "Once downloaded, you should be able to open the file with any type of notepad program .\"\"\"\n",
    "\n",
    "# For min 300\n",
    "\"\"\" Your min_length=300 must be inferior than your max_length=142.\n",
    "YouTube should usually automatically try and caption your videos, but it never does a perfect job . \n",
    "To upload captions you will need to go to videos. This is the dashboard, or homepage, of the new Creator Studio . \n",
    "Once you select your captions document, it should automatically add it to the video where you can press save . \n",
    "If you don't have a captions file and you want to download the one automatically created from YouTube. \n",
    "Once downloaded, you should be able to open the file with any type of notepad program such as Notepad++ . \n",
    "And then you can make changes to it, perfect the grammar, change the spelling, and then re-upload it to \n",
    "YouTube as a perfectly\n",
    "\"\"\"\n",
    "\n",
    "# For min 300 and max 1000\n",
    "\"\"\"\n",
    "YouTube should usually automatically try and caption your videos, but it never does a perfect job . \n",
    "To upload captions you will need to go to videos. This is the dashboard, or homepage, of the new Creator Studio . \n",
    "Once you select your captions document, it should automatically add it to the video where you can press save . \n",
    "If you don't have a captions file and you want to download the one automatically created from YouTube. \n",
    "Once downloaded, you should be able to open the file with any type of notepad program such as Notepad++ . \n",
    "And then you can make changes to it, perfect the grammar, change the spelling, make sure everything looks right, \n",
    "and then re-upload it to YouTube as a perfectly captioned video . With captions, you can use them for Facebook and \n",
    "Twitter videos, where the audio is usually turned off by default when it also plays. And so, having captions on \n",
    "there helps grab the viewer . For more information, do look at the support page. In the meantime, if you want a bit \n",
    "of fun, rewind this video back to the beginning, re-watch the video description, but use YouTube's auto-translated ones, \n",
    "because I guarantee you the words coming out of my mouth will be the same are the ones you are reading down here. \n",
    "It will then make sure to use captions. In our video description. A link is in the video descriptions. For more info, \n",
    "please look at our support page, do\"\n",
    "\"\"\""
   ]
  },
  {
   "cell_type": "markdown",
   "metadata": {},
   "source": []
  }
 ],
 "metadata": {
  "interpreter": {
   "hash": "8d9653d5a14329d3f988cd1441986478ac776895e99e8a2ac1e19f44399000db"
  },
  "kernelspec": {
   "display_name": "Python 3.8.5 ('mini2b')",
   "language": "python",
   "name": "python3"
  },
  "language_info": {
   "codemirror_mode": {
    "name": "ipython",
    "version": 3
   },
   "file_extension": ".py",
   "mimetype": "text/x-python",
   "name": "python",
   "nbconvert_exporter": "python",
   "pygments_lexer": "ipython3",
   "version": "3.10.0"
  },
  "orig_nbformat": 4
 },
 "nbformat": 4,
 "nbformat_minor": 2
}
